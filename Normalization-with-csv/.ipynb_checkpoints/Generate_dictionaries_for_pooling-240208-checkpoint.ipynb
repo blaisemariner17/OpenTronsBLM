{
 "cells": [
  {
   "cell_type": "code",
   "execution_count": 1,
   "id": "59a22b51",
   "metadata": {},
   "outputs": [
    {
     "name": "stdout",
     "output_type": "stream",
     "text": [
      "The file has been found in the current working directory.\n",
      "Continue.\n"
     ]
    }
   ],
   "source": [
    "#THE FIRST THING YOU HAVE TO DO IS GENERATE A CSV FILE WITH THE REQUIRED PARAMETERS FOR THE NORMALIZATION PROTOCOL\n",
    "#see input_csv.csv provided in the github repo OpenTronsOT2SMACK for formatting\n",
    "#is is essential that the formatting match the provided format, or else this script will error out.\n",
    "\n",
    "#Run one cell at a time by pressing Shift + Enter\n",
    "#The printed prompts will guide you through this file.\n",
    "\n",
    "#Now, tell me where that file is named:\n",
    "input_csv_file = 'input_csv.csv'\n",
    "\n",
    "import os\n",
    "if os.path.isfile(os.getcwd() + \"/\" + input_csv_file):\n",
    "    print(\"The file has been found in the current working directory.\")\n",
    "    print(\"Continue.\")\n",
    "    file_found = 1\n",
    "    current_working_directory =  os.getcwd()\n",
    "    input_csv_full_path = current_working_directory + '/'+ input_csv_file\n",
    "else:\n",
    "    print(\"The file has not been found in the current working directory.\")\n",
    "    print(\"Please provide the directory to where this file exists in the next cell.\")\n",
    "    file_found = 0"
   ]
  },
  {
   "cell_type": "code",
   "execution_count": 2,
   "id": "39cbb19d",
   "metadata": {},
   "outputs": [
    {
     "name": "stdout",
     "output_type": "stream",
     "text": [
      "File was found. Continue to the next cell.\n"
     ]
    }
   ],
   "source": [
    "#provide the directory to where this file exists here\n",
    "input_csv_directory = '/home/blaise/blaisework-SMACK/PROJECTS/Active/GitHub/OpenTronsOT2SMACK/Normalization-with-csv'\n",
    "\n",
    "if file_found == 0:\n",
    "    input_csv_full_path = input_csv_directory + '/'+ input_csv_file\n",
    "    if os.path.isfile(input_csv_full_path):\n",
    "        file_found = 1\n",
    "        print(\"The file has been found in the directory provided:\")\n",
    "    else:\n",
    "        print(\"The file has not been found in the directory provided.\")\n",
    "        print(\"Please try again.\")\n",
    "if file_found == 1:\n",
    "    print(\"File was found. Continue to the next cell.\")"
   ]
  },
  {
   "cell_type": "code",
   "execution_count": 3,
   "id": "a7091cd2",
   "metadata": {},
   "outputs": [
    {
     "name": "stdout",
     "output_type": "stream",
     "text": [
      "Script complete. Please copy and paste the information below into the OT-2 normalization python protocol and then you are ready to import that file into the OT-2, set-up, and run.\n",
      "\n",
      "source_well_to_destination_well_dictionary = {'A1': 'A1', 'B2': 'B2', 'C3': 'C3', 'D4': 'D4', 'E5': 'E5'}\n",
      "water_addition_dictionary =  {'A1': '0', 'B2': '5', 'C3': '10', 'D4': '24', 'E5': '26'}\n",
      "DNA_addition_dictionary =  {'A1': '26', 'B2': '21', 'C3': '16', 'D4': '2', 'E5': '0'}\n"
     ]
    }
   ],
   "source": [
    "source_well_to_destination_well_dictionary = {}\n",
    "water_addition_dictionary = {}\n",
    "DNA_addition_dictionary = {}\n",
    "with open(input_csv_full_path) as my_file:\n",
    "        list_elements = my_file.read().splitlines()\n",
    "        if list_elements[0] == 'source_well,destination_well,water_volume,dna_volume':\n",
    "            for line in list_elements[1:len(list_elements)]:\n",
    "                info = line.split(',')\n",
    "                source_well = info[0]\n",
    "                destination_well = info[1]\n",
    "                water_vol = info[2]\n",
    "                dna_vol = info[3]\n",
    "                source_well_to_destination_well_dictionary[source_well] = destination_well\n",
    "                water_addition_dictionary[destination_well] = water_vol\n",
    "                DNA_addition_dictionary[source_well] = dna_vol                \n",
    "        else:\n",
    "            print('no')\n",
    "            raise ValueError(\"The input csv file is either not correctly labeled. Please check your input csv formatting against the input_csv.csv provided in the github repo and try again.\")\n",
    "if len(source_well_to_destination_well_dictionary.keys()) == 0 or len(water_addition_dictionary.keys()) == 0 or len(DNA_addition_dictionary.keys()) == 0:\n",
    "    raise ValueError(\"All values missing from input csv file. Please try again.\")\n",
    "\n",
    "print(\"Script complete. Please copy and paste the information below into the OT-2 normalization python protocol and then you are ready to import that file into the OT-2, set-up, and run.\")\n",
    "print(\"\")\n",
    "print(\"source_well_to_destination_well_dictionary =\", source_well_to_destination_well_dictionary)\n",
    "print(\"water_addition_dictionary = \", water_addition_dictionary)\n",
    "print(\"DNA_addition_dictionary = \", DNA_addition_dictionary)"
   ]
  },
  {
   "cell_type": "code",
   "execution_count": null,
   "id": "175721af",
   "metadata": {},
   "outputs": [],
   "source": []
  },
  {
   "cell_type": "code",
   "execution_count": null,
   "id": "1e6f63fa",
   "metadata": {},
   "outputs": [],
   "source": []
  }
 ],
 "metadata": {
  "kernelspec": {
   "display_name": "Python 3 (ipykernel)",
   "language": "python",
   "name": "python3"
  },
  "language_info": {
   "codemirror_mode": {
    "name": "ipython",
    "version": 3
   },
   "file_extension": ".py",
   "mimetype": "text/x-python",
   "name": "python",
   "nbconvert_exporter": "python",
   "pygments_lexer": "ipython3",
   "version": "3.10.9"
  }
 },
 "nbformat": 4,
 "nbformat_minor": 5
}
