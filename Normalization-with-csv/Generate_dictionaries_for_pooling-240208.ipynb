{
 "cells": [
  {
   "cell_type": "code",
   "execution_count": 15,
   "id": "4e3e11a0",
   "metadata": {},
   "outputs": [],
   "source": [
    "###Using a csv to define the water and dna amounts: https://docs.opentrons.com/ot1/examples.html\n",
    "#see input_csv.csv for formatting\n",
    "source_well_to_destination_well_dictionary = {}\n",
    "water_addition_dictionary = {}\n",
    "DNA_addition_dictionary = {}"
   ]
  },
  {
   "cell_type": "code",
   "execution_count": 16,
   "id": "a7091cd2",
   "metadata": {},
   "outputs": [],
   "source": [
    "# put csv and it's path here to generate the dictionaries that are to be used for OT-2 pooling\n",
    "with open('/home/blaise/blaisework-SMACK/PROJECTS/Active/3_opentrons/2024-02-07-writing-my-own-script/input_csv.csv') as my_file:\n",
    "        list_elements = my_file.read().splitlines()\n",
    "        if list_elements[0] == 'source_well,destination_well,water_volume,dna_volume':\n",
    "            for line in list_elements[1:len(list_elements)]:\n",
    "                info = line.split(',')\n",
    "                source_well = info[0]\n",
    "                destination_well = info[1]\n",
    "                water_vol = info[2]\n",
    "                dna_vol = info[3]\n",
    "                source_well_to_destination_well_dictionary[source_well] = destination_well\n",
    "                water_addition_dictionary[destination_well] = water_vol\n",
    "                DNA_addition_dictionary[source_well] = dna_vol \n",
    "        else:\n",
    "            print('no')\n",
    "            raise ValueError(\"CSV NOT PROPERLY FORMATTED\")\n",
    "if len(source_well_to_destination_well_dictionary.keys()) == 0 or len(water_addition_dictionary.keys()) == 0 or len(DNA_addition_dictionary.keys()) == 0:\n",
    "    raise ValueError(\"VALUES MISSING FROM CSV PLEASE TRY AGAIN\")\n",
    "    "
   ]
  },
  {
   "cell_type": "code",
   "execution_count": 19,
   "id": "e099126c",
   "metadata": {},
   "outputs": [
    {
     "name": "stdout",
     "output_type": "stream",
     "text": [
      "source_well_to_destination_well_dictionary = {'A1': 'B1', 'B2': 'C2', 'C3': 'D3', 'D4': 'E4', 'E5': 'F5'}\n",
      "water_addition_dictionary =  {'B1': '0', 'C2': '5', 'D3': '10', 'E4': '24', 'F5': '26'}\n",
      "DNA_addition_dictionary =  {'A1': '26', 'B2': '21', 'C3': '16', 'D4': '2', 'E5': '0'}\n"
     ]
    }
   ],
   "source": [
    "print(\"source_well_to_destination_well_dictionary =\", source_well_to_destination_well_dictionary)\n",
    "print(\"water_addition_dictionary = \", water_addition_dictionary)\n",
    "print(\"DNA_addition_dictionary = \", DNA_addition_dictionary)\n",
    "#copy and paste below into the normalization.py script"
   ]
  }
 ],
 "metadata": {
  "kernelspec": {
   "display_name": "Python 3 (ipykernel)",
   "language": "python",
   "name": "python3"
  },
  "language_info": {
   "codemirror_mode": {
    "name": "ipython",
    "version": 3
   },
   "file_extension": ".py",
   "mimetype": "text/x-python",
   "name": "python",
   "nbconvert_exporter": "python",
   "pygments_lexer": "ipython3",
   "version": "3.10.9"
  }
 },
 "nbformat": 4,
 "nbformat_minor": 5
}
